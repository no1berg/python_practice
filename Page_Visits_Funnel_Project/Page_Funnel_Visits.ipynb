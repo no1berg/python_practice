{
  "cells": [
    {
      "cell_type": "code",
      "metadata": {
        "jukit_cell_id": "nl0FItJUP9"
      },
      "source": [
        "import pandas as pd"
      ],
      "outputs": [],
      "execution_count": null
    },
    {
      "cell_type": "markdown",
      "metadata": {
        "jukit_cell_id": "DFb8qAxXA2"
      },
      "source": [
        "Import all the files"
      ]
    },
    {
      "cell_type": "code",
      "metadata": {
        "jukit_cell_id": "6q0wZsHXgS"
      },
      "source": [
        "visits = pd.read_csv(\"visits.csv\", parse_dates=[1])\n",
        "cart = pd.read_csv(\"cart.csv\", parse_dates=[1])\n",
        "\n",
        "checkout = pd.read_csv(\"checkout.csv\", parse_dates=[1])\n",
        "purchase = pd.read_csv(\"purchase.csv\", parse_dates=[1])"
      ],
      "outputs": [],
      "execution_count": null
    },
    {
      "cell_type": "markdown",
      "metadata": {
        "jukit_cell_id": "o82KOCyhj4"
      },
      "source": [
        "Step 1: Inspect the DataFrames using `print` and `head`"
      ]
    },
    {
      "cell_type": "code",
      "metadata": {
        "jukit_cell_id": "R8q8VhMyor"
      },
      "source": [
        "print(visits.head(5))\n",
        "print(cart.head(5))\n",
        "print(checkout.head(5))\n",
        "print(purchase.head(5))"
      ],
      "outputs": [
        {
          "output_type": "stream",
          "name": "stdout",
          "text": "                                user_id          visit_time\n0  943647ef-3682-4750-a2e1-918ba6f16188 2017-04-07 15:14:00\n1  0c3a3dd0-fb64-4eac-bf84-ba069ce409f2 2017-01-26 14:24:00\n2  6e0b2d60-4027-4d9a-babd-0e7d40859fb1 2017-08-20 08:23:00\n3  6879527e-c5a6-4d14-b2da-50b85212b0ab 2017-11-04 18:15:00\n4  a84327ff-5daa-4ba1-b789-d5b4caf81e96 2017-02-27 11:25:00\n                                user_id           cart_time\n0  2be90e7c-9cca-44e0-bcc5-124b945ff168 2017-11-07 20:45:00\n1  4397f73f-1da3-4ab3-91af-762792e25973 2017-05-27 01:35:00\n2  a9db3d4b-0a0a-4398-a55a-ebb2c7adf663 2017-03-04 10:38:00\n3  b594862a-36c5-47d5-b818-6e9512b939b3 2017-09-27 08:22:00\n4  a68a16e2-94f0-4ce8-8ce3-784af0bbb974 2017-07-26 15:48:00\n                                user_id       checkout_time\n0  d33bdc47-4afa-45bc-b4e4-dbe948e34c0d 2017-06-25 09:29:00\n1  4ac186f0-9954-4fea-8a27-c081e428e34e 2017-04-07 20:11:00\n2  3c9c78a7-124a-4b77-8d2e-e1926e011e7d 2017-07-13 11:38:00\n3  89fe330a-8966-4756-8f7c-3bdbcd47279a 2017-04-20 16:15:00\n4  3ccdaf69-2d30-40de-b083-51372881aedd 2017-01-08 20:52:00\n                                user_id       purchase_time\n0  4b44ace4-2721-47a0-b24b-15fbfa2abf85 2017-05-11 04:25:00\n1  02e684ae-a448-408f-a9ff-dcb4a5c99aac 2017-09-05 08:45:00\n2  4b4bc391-749e-4b90-ab8f-4f6e3c84d6dc 2017-11-20 20:49:00\n3  a5dbb25f-3c36-4103-9030-9f7c6241cd8d 2017-01-22 15:18:00\n4  46a3186d-7f5a-4ab9-87af-84d05bfd4867 2017-06-11 11:32:00\n"
        }
      ],
      "execution_count": 1
    },
    {
      "cell_type": "markdown",
      "metadata": {
        "jukit_cell_id": "xpHRTUZ2O3"
      },
      "source": [
        "Step 2: Left merging visits and cart"
      ]
    },
    {
      "cell_type": "code",
      "metadata": {
        "jukit_cell_id": "aB4nkiHrNy"
      },
      "source": [
        "# Merge visits and cart into v_to_c dataframe\n",
        "visits_cart = pd.merge(visits, cart, how=\"left\")\n",
        "print(visits_cart)"
      ],
      "outputs": [
        {
          "output_type": "stream",
          "name": "stdout",
          "text": "                                   user_id  ...           cart_time\n0     943647ef-3682-4750-a2e1-918ba6f16188  ...                 NaT\n1     0c3a3dd0-fb64-4eac-bf84-ba069ce409f2  ... 2017-01-26 14:44:00\n2     6e0b2d60-4027-4d9a-babd-0e7d40859fb1  ... 2017-08-20 08:31:00\n3     6879527e-c5a6-4d14-b2da-50b85212b0ab  ...                 NaT\n4     a84327ff-5daa-4ba1-b789-d5b4caf81e96  ...                 NaT\n...                                    ...  ...                 ...\n1995  33913ac2-03da-45ae-8fc3-fea39df827c6  ...                 NaT\n1996  4f850132-b99d-4623-80e6-6e61d003577e  ...                 NaT\n1997  f0830b9b-1f5c-4e74-b63d-3f847cc6ce70  ...                 NaT\n1998  b01bffa7-63ba-4cd3-9d93-eb1477c23831  ...                 NaT\n1999  0336ca81-8d68-443f-9248-ac0b8ad147d5  ...                 NaT\n\n[2000 rows x 3 columns]\n"
        }
      ],
      "execution_count": 2
    },
    {
      "cell_type": "markdown",
      "metadata": {
        "jukit_cell_id": "ziwdhGTlVQ"
      },
      "source": [
        "Step 3: How long is `visits_cart`?"
      ]
    },
    {
      "cell_type": "code",
      "metadata": {
        "jukit_cell_id": "pqM1j77s8y"
      },
      "source": [
        "# Use len to find out the number of rows in visits_cart\n",
        "visits_cart_len = len(visits_cart)\n",
        "print(visits_cart_len)"
      ],
      "outputs": [
        {
          "output_type": "stream",
          "name": "stdout",
          "text": "2000\n"
        }
      ],
      "execution_count": 3
    },
    {
      "cell_type": "markdown",
      "metadata": {
        "jukit_cell_id": "cFInl39fiY"
      },
      "source": [
        "Step 4: How many timestamps are null for `cart_time`?"
      ]
    },
    {
      "cell_type": "code",
      "metadata": {
        "jukit_cell_id": "OQFh9tTV2o"
      },
      "source": [
        "# Find number of null rows in cart_time column\n",
        "cart_time_null = len(visits_cart[visits_cart[\"cart_time\"].isna()])\n",
        "print(cart_time_null)"
      ],
      "outputs": [
        {
          "output_type": "stream",
          "name": "stdout",
          "text": "1652\n"
        }
      ],
      "execution_count": 4
    },
    {
      "cell_type": "markdown",
      "metadata": {
        "jukit_cell_id": "0wREcQ0fG6"
      },
      "source": [
        "Step 5: What percentage only visited?"
      ]
    },
    {
      "cell_type": "code",
      "metadata": {
        "jukit_cell_id": "sgkMAQskF4"
      },
      "source": [
        "# Calculate the percentage of visitors that didn't continue to cart\n",
        "visitors_didnt_go_to_cart = cart_time_null * 100 / float(visits_cart_len)\n",
        "print(f\"Visitors that didn't add items to their carts: {visitors_didnt_go_to_cart}%\")"
      ],
      "outputs": [
        {
          "output_type": "stream",
          "name": "stdout",
          "text": "Visitors that didn't add items to their carts: 82.6%\n"
        }
      ],
      "execution_count": 5
    },
    {
      "cell_type": "markdown",
      "metadata": {
        "jukit_cell_id": "2XbMyVl63I"
      },
      "source": [
        "Step 6: What percentage placed a t-shirt in their cart but did not checkout?"
      ]
    },
    {
      "cell_type": "code",
      "metadata": {
        "jukit_cell_id": "r4PZ5WWQOr"
      },
      "source": [
        "# Perform a left merge on cart and checkout\n",
        "cart_checkout = pd.merge(cart, checkout, how=\"left\")\n",
        "print(cart_checkout.head(10))\n",
        "# Find len of cart_checkout\n",
        "cart_checkout_len = len(cart_checkout)\n",
        "print(cart_checkout_len)\n",
        "# Find number of null in checkout_time column\n",
        "checkout_time_null = len(cart_checkout[cart_checkout[\"checkout_time\"].isna()])\n",
        "print(checkout_time_null)\n",
        "# Calculate the percentage of users who added item to cart, but didnt check out\n",
        "cart_didnt_go_to_checkout = checkout_time_null * 100 / float(cart_checkout_len)\n",
        "print(\n",
        "    f\"Users who added item to cart, but did not checkout: {round(cart_didnt_go_to_checkout, 2)}%\"\n",
        ")"
      ],
      "outputs": [
        {
          "output_type": "stream",
          "name": "stdout",
          "text": "                                user_id  ...       checkout_time\n0  2be90e7c-9cca-44e0-bcc5-124b945ff168  ... 2017-11-07 21:14:00\n1  4397f73f-1da3-4ab3-91af-762792e25973  ...                 NaT\n2  a9db3d4b-0a0a-4398-a55a-ebb2c7adf663  ... 2017-03-04 11:04:00\n3  b594862a-36c5-47d5-b818-6e9512b939b3  ... 2017-09-27 08:26:00\n4  a68a16e2-94f0-4ce8-8ce3-784af0bbb974  ...                 NaT\n5  0c998868-9961-490b-8ec2-9981ba667027  ... 2017-11-27 09:18:00\n6  f783c680-1d9a-437d-9f45-7827299b78fa  ... 2017-06-25 08:28:00\n7  f3dd7631-3cf6-4d49-9c6e-b48eda4432b5  ... 2017-01-04 10:20:00\n8  4cdd357a-199e-4d81-ae9e-7252fa34ee0f  ... 2017-05-23 22:54:00\n9  3c3460b3-a56d-4d92-908d-29dcca34db18  ... 2017-01-06 15:06:00\n\n[10 rows x 3 columns]\n348\n122\nUsers who added item to cart, but did not checkout: 35.06%\n"
        }
      ],
      "execution_count": 6
    },
    {
      "cell_type": "markdown",
      "metadata": {
        "jukit_cell_id": "Vn5cjdlJo3"
      },
      "source": [
        "Step 7: Merge it all togethe"
      ]
    },
    {
      "cell_type": "code",
      "metadata": {
        "jukit_cell_id": "MWBbtpVpa3"
      },
      "source": [
        "# Merge visits and cart (already done)\n",
        "# Merge visits_cart with checkout\n",
        "visits_cart_checkout = pd.merge(visits_cart, checkout, how=\"left\")\n",
        "# Merge visits_cart_checkout with purchase\n",
        "all_data = pd.merge(visits_cart_checkout, purchase, how=\"left\")\n",
        "print(all_data)"
      ],
      "outputs": [
        {
          "output_type": "stream",
          "name": "stdout",
          "text": "                                   user_id  ...       purchase_time\n0     943647ef-3682-4750-a2e1-918ba6f16188  ...                 NaT\n1     0c3a3dd0-fb64-4eac-bf84-ba069ce409f2  ... 2017-01-26 15:08:00\n2     6e0b2d60-4027-4d9a-babd-0e7d40859fb1  ...                 NaT\n3     6879527e-c5a6-4d14-b2da-50b85212b0ab  ...                 NaT\n4     a84327ff-5daa-4ba1-b789-d5b4caf81e96  ...                 NaT\n...                                    ...  ...                 ...\n2103  33913ac2-03da-45ae-8fc3-fea39df827c6  ...                 NaT\n2104  4f850132-b99d-4623-80e6-6e61d003577e  ...                 NaT\n2105  f0830b9b-1f5c-4e74-b63d-3f847cc6ce70  ...                 NaT\n2106  b01bffa7-63ba-4cd3-9d93-eb1477c23831  ...                 NaT\n2107  0336ca81-8d68-443f-9248-ac0b8ad147d5  ...                 NaT\n\n[2108 rows x 5 columns]\n"
        }
      ],
      "execution_count": 7
    },
    {
      "cell_type": "markdown",
      "metadata": {
        "jukit_cell_id": "WigpUR9I7W"
      },
      "source": [
        "Step 8: % of users who got to checkout but did not purchase"
      ]
    },
    {
      "cell_type": "code",
      "metadata": {
        "jukit_cell_id": "1UY9Crt9d7"
      },
      "source": [
        "# Calculate the len of checkout (that are not Null)\n",
        "checkout_time_len = len(all_data[all_data.checkout_time.notna()])\n",
        "# Calculate the len of purchase (that are not Null)\n",
        "purchase_time_len = len(all_data[all_data.purchase_time.notna()])\n",
        "\n",
        "# Calculate the percent of users who entered checkout,\n",
        "# but did not finalize purchase\n",
        "checkout_not_purchased = purchase_time_len * 100 / float(checkout_time_len)\n",
        "print(\n",
        "    f\"Users who entered checkout, but did not finalize purchase: {round(checkout_not_purchased, 2)}%\"\n",
        ")"
      ],
      "outputs": [
        {
          "output_type": "stream",
          "name": "stdout",
          "text": "Users who entered checkout, but did not finalize purchase: 75.45%\n"
        }
      ],
      "execution_count": 8
    },
    {
      "cell_type": "markdown",
      "metadata": {
        "jukit_cell_id": "F4wlW7q371"
      },
      "source": [
        "Step 9: check each part of the funnel, let's print all 3 of them again"
      ]
    },
    {
      "cell_type": "code",
      "metadata": {
        "jukit_cell_id": "rzj81nU3Nk"
      },
      "source": [
        "# The weakest part of the funnel is the visitor to cart stage\n",
        "print(f\"Visitors who did not add items to carts: {round(visitors_didnt_go_to_cart), 2}\")\n",
        "print(\n",
        "    f\"Users who added items to cart, but did not check out: {round(cart_didnt_go_to_checkout, 2)}\"\n",
        ")\n",
        "print(\n",
        "    f\"Users who entered checkout but did not finalize purchase: {round(checkout_not_purchased, 2)}\"\n",
        ")\n",
        "# Steps to improve this part of the funnel should focus on incentivising users,\n",
        "# to add products to their carts. One such step might be redesigning the UI,\n",
        "# enhancing the user experience, and simplifying the process of adding\n",
        "# products to the cart"
      ],
      "outputs": [
        {
          "output_type": "stream",
          "name": "stdout",
          "text": "Visitors who did not add items to carts: (83, 2)\nUsers who added items to cart, but did not check out: 35.06\nUsers who entered checkout but did not finalize purchase: 75.45\n"
        }
      ],
      "execution_count": 9
    },
    {
      "cell_type": "markdown",
      "metadata": {
        "jukit_cell_id": "3fMhsmpAs9"
      },
      "source": [
        "*The weakest part of the funnel is clearly getting a person who visited the site to add a tshirt to their cart. Once they've added a t-shirt to their cart it is fairly likely they end up purchasing it. A suggestion could be to make the add-to-cart button more prominent on the front page.*\n",
        "\n",
        "\n",
        "Step 10: adding new column"
      ]
    },
    {
      "cell_type": "code",
      "metadata": {
        "jukit_cell_id": "QcgAlKVxzg"
      },
      "source": [
        "# Calculate time from initial visit to final purchase, as a column\n",
        "all_data[\"time_visit_to_purchase\"] = all_data.purchase_time - all_data.visit_time"
      ],
      "outputs": [],
      "execution_count": null
    },
    {
      "cell_type": "markdown",
      "metadata": {
        "jukit_cell_id": "N5dn13NHUH"
      },
      "source": [
        "Step 11: examine the results"
      ]
    },
    {
      "cell_type": "code",
      "metadata": {
        "jukit_cell_id": "koVEWLyChU"
      },
      "source": [
        "print(all_data.time_visit_to_purchase)"
      ],
      "outputs": [
        {
          "output_type": "stream",
          "name": "stdout",
          "text": "0                  NaT\n1      0 days 00:44:00\n2                  NaT\n3                  NaT\n4                  NaT\n             ...      \n2103               NaT\n2104               NaT\n2105               NaT\n2106               NaT\n2107               NaT\nName: time_visit_to_purchase, Length: 2108, dtype: timedelta64[ns]\n"
        }
      ],
      "execution_count": 10
    },
    {
      "cell_type": "markdown",
      "metadata": {
        "jukit_cell_id": "5gaq9NlMS5"
      },
      "source": [
        "Step 12: average time to purchase"
      ]
    },
    {
      "cell_type": "code",
      "metadata": {
        "jukit_cell_id": "W7YJpOi9yL"
      },
      "source": [
        "# Calculate the average time between initial visit and final purchase\n",
        "time_visit_to_purchase_mean = all_data.time_visit_to_purchase.mean()\n",
        "print(time_visit_to_purchase_mean)"
      ],
      "outputs": [
        {
          "output_type": "stream",
          "name": "stdout",
          "text": "0 days 00:43:12.380952380\n"
        }
      ],
      "execution_count": 11
    },
    {
      "cell_type": "code",
      "metadata": {
        "jukit_cell_id": "OHLZ7dXaDa"
      },
      "source": [],
      "outputs": [],
      "execution_count": null
    }
  ],
  "metadata": {
    "anaconda-cloud": {},
    "kernelspec": {
      "display_name": "python",
      "language": "python",
      "name": "python3"
    }
  },
  "nbformat": 4,
  "nbformat_minor": 4
}